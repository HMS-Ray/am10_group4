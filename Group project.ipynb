{
 "cells": [
  {
   "cell_type": "code",
   "execution_count": 1,
   "id": "a370c963",
   "metadata": {},
   "outputs": [],
   "source": [
    "import pandas as pd\n",
    "import numpy as np\n",
    "import matplotlib.pyplot as plt\n",
    "import seaborn as sns\n",
    "%matplotlib inline\n",
    "import matplotlib"
   ]
  },
  {
   "cell_type": "code",
   "execution_count": 3,
   "id": "8b816cc1",
   "metadata": {},
   "outputs": [
    {
     "data": {
      "text/plain": [
       "(8807, 12)"
      ]
     },
     "execution_count": 3,
     "metadata": {},
     "output_type": "execute_result"
    }
   ],
   "source": [
    "netflix = pd.read_csv('netflix_titles.csv')\n",
    "netflix.shape"
   ]
  },
  {
   "cell_type": "code",
   "execution_count": null,
   "id": "63023f16",
   "metadata": {},
   "outputs": [],
   "source": []
  },
  {
   "cell_type": "code",
   "execution_count": null,
   "id": "e340e7c6",
   "metadata": {},
   "outputs": [],
   "source": []
  },
  {
   "cell_type": "code",
   "execution_count": 18,
   "id": "ae44d902",
   "metadata": {},
   "outputs": [],
   "source": [
    "netflix_copy = netflix.copy()"
   ]
  },
  {
   "cell_type": "code",
   "execution_count": 19,
   "id": "40be4363",
   "metadata": {},
   "outputs": [],
   "source": [
    "netflix_copy.date_added = pd.to_datetime(netflix_copy.date_added)\n",
    "\n",
    "netflix_copy['month_added'] = netflix_copy.date_added.dt.month\n",
    "netflix_copy['year_added'] = netflix_copy.date_added.dt.year"
   ]
  },
  {
   "cell_type": "code",
   "execution_count": null,
   "id": "1ce340b3",
   "metadata": {},
   "outputs": [],
   "source": [
    "netflix_copy = netflix_copy[['']]"
   ]
  },
  {
   "cell_type": "code",
   "execution_count": 21,
   "id": "8db91b11",
   "metadata": {},
   "outputs": [
    {
     "data": {
      "text/plain": [
       "<Figure size 432x288 with 0 Axes>"
      ]
     },
     "metadata": {},
     "output_type": "display_data"
    }
   ],
   "source": [
    "fig = plt.figure()\n",
    "bar = ''\n",
    "def buildmebarchart(i=int):\n",
    "    iv = min(i, len(netflix_copy.index)-1) #the loop iterates an extra one time, which causes the dataframes to go out of bounds. This was the easiest (most lazy) way to solve this :)\n",
    "    objects = netflix_copy.max().index\n",
    "    y_pos = np.arange(len(objects))\n",
    "    performance = netflix_copy.iloc[[iv]].values.tolist()[0]\n",
    "    if bar == 'vertical':\n",
    "        plt.bar(y_pos, performance, align='center', color=['red', 'green', 'blue', 'orange'])\n",
    "        plt.xticks(y_pos, objects)\n",
    "        plt.ylabel('Deaths')\n",
    "        plt.xlabel('Countries')\n",
    "        plt.title('Deaths per Country \\n' + str(netflix_copy.index[iv].strftime('%y-%m-%d')))\n",
    "    else:\n",
    "        plt.barh(y_pos, performance, align='center', color=['red', 'green', 'blue', 'orange'])\n",
    "        plt.yticks(y_pos, objects)\n",
    "        plt.xlabel('Deaths')\n",
    "        plt.ylabel('Countries')\n",
    "animator = ani.FuncAnimation(fig, buildmebarchart, interval=100)\n",
    "plt.show()"
   ]
  },
  {
   "cell_type": "code",
   "execution_count": null,
   "id": "7fe21d05",
   "metadata": {},
   "outputs": [],
   "source": []
  },
  {
   "cell_type": "code",
   "execution_count": null,
   "id": "7b96731d",
   "metadata": {},
   "outputs": [],
   "source": []
  },
  {
   "cell_type": "code",
   "execution_count": null,
   "id": "c45be5cd",
   "metadata": {},
   "outputs": [],
   "source": []
  },
  {
   "cell_type": "code",
   "execution_count": null,
   "id": "be1cfeed",
   "metadata": {},
   "outputs": [],
   "source": []
  },
  {
   "cell_type": "code",
   "execution_count": null,
   "id": "913b4596",
   "metadata": {},
   "outputs": [],
   "source": []
  },
  {
   "cell_type": "code",
   "execution_count": null,
   "id": "a44ebae0",
   "metadata": {},
   "outputs": [],
   "source": []
  },
  {
   "cell_type": "code",
   "execution_count": null,
   "id": "3ee0fdd9",
   "metadata": {},
   "outputs": [],
   "source": []
  },
  {
   "cell_type": "code",
   "execution_count": 5,
   "id": "b33906bc",
   "metadata": {},
   "outputs": [],
   "source": [
    "netflix_country = netflix.copy()"
   ]
  },
  {
   "cell_type": "code",
   "execution_count": 8,
   "id": "7450f27c",
   "metadata": {},
   "outputs": [
    {
     "data": {
      "text/plain": [
       "title           \n",
       "Blood & Water  0          Ama Qamata\n",
       "               1         Khosi Ngema\n",
       "               2       Gail Mabalane\n",
       "               3      Thabang Molaba\n",
       "               4    Dillon Windvogel\n",
       "dtype: object"
      ]
     },
     "execution_count": 8,
     "metadata": {},
     "output_type": "execute_result"
    }
   ],
   "source": [
    "#Data manipulation to clean cast column\n",
    "\n",
    "cast_data = netflix[~(netflix.cast.isna())]\n",
    "cast_data = cast_data.set_index('title')\n",
    "cast_data = cast_data.cast.str.split(', ', expand=True).stack()\n",
    "case_data = cast_data.reset_index(level=1, drop=True)\n",
    "\n",
    "cast_data.head()"
   ]
  },
  {
   "cell_type": "code",
   "execution_count": 11,
   "id": "6edd9178",
   "metadata": {},
   "outputs": [
    {
     "data": {
      "image/png": "[encoded data removed]",
      "text/plain": [
       "<Figure size 432x288 with 1 Axes>"
      ]
     },
     "metadata": {
      "needs_background": "light"
     },
     "output_type": "display_data"
    }
   ],
   "source": [
    "#Plotting most popular actors\n",
    "\n",
    "plt.rcParams.update({'text.color': \"black\",\n",
    "                     'axes.labelcolor': \"black\",\n",
    "                    \"ytick.color\" : \"black\",\n",
    "          \"xtick.color\" : \"black\",\n",
    "          \"axes.labelcolor\" : \"black\",\n",
    "          \"axes.edgecolor\" : \"black\"})\n",
    "\n",
    "sns.countplot(y = cast_data, order = cast_data.value_counts().index[:10], color = '#E50914')\n",
    "plt.xlabel(\"\")\n",
    "plt.suptitle(\"Who appears the most in Netflix content?\", fontsize = 18, va='top', y = 1.02)\n",
    "plt.title(\"Top 10 actors on Netflix based on number of titles\", loc = \"left\", y = 1)\n",
    "plt.show()"
   ]
  },
  {
   "cell_type": "code",
   "execution_count": 12,
   "id": "f03fb2c4",
   "metadata": {},
   "outputs": [
    {
     "data": {
      "image/png": "[encoded data removed]",
      "text/plain": [
       "<Figure size 432x288 with 1 Axes>"
      ]
     },
     "metadata": {
      "needs_background": "dark"
     },
     "output_type": "display_data"
    }
   ],
   "source": [
    "#Plotting most popular actors\n",
    "\n",
    "plt.rcParams.update({'text.color': \"white\",\n",
    "                     'axes.labelcolor': \"white\",\n",
    "                    \"ytick.color\" : \"white\",\n",
    "          \"xtick.color\" : \"white\",\n",
    "          \"axes.labelcolor\" : \"white\",\n",
    "          \"axes.edgecolor\" : \"white\"})\n",
    "\n",
    "sns.countplot(y = cast_data, order = cast_data.value_counts().index[:10], color = '#E50914')\n",
    "plt.xlabel(\"\")\n",
    "plt.suptitle(\"Who appears the most in Netflix content?\", fontsize = 18, va='top', y = 1.02)\n",
    "plt.title(\"Top 10 actors on Netflix based on number of titles\", loc = \"left\", y = 1)\n",
    "plt.show()"
   ]
  },
  {
   "cell_type": "code",
   "execution_count": null,
   "id": "70e2e91c",
   "metadata": {},
   "outputs": [],
   "source": []
  },
  {
   "cell_type": "code",
   "execution_count": null,
   "id": "43a0d404",
   "metadata": {},
   "outputs": [],
   "source": []
  },
  {
   "cell_type": "code",
   "execution_count": 14,
   "id": "479cb929",
   "metadata": {},
   "outputs": [
    {
     "data": {
      "text/plain": [
       "title\n",
       "Dick Johnson Is Dead                Kirsten Johnson\n",
       "Ganglands                           Julien Leclercq\n",
       "Midnight Mass                         Mike Flanagan\n",
       "My Little Pony: A New Generation      Robert Cullen\n",
       "My Little Pony: A New Generation     José Luis Ucha\n",
       "dtype: object"
      ]
     },
     "execution_count": 14,
     "metadata": {},
     "output_type": "execute_result"
    }
   ],
   "source": [
    "#Data Manipulation to plot most common directors\n",
    "\n",
    "director_data = netflix[~(netflix.director.isna())]\n",
    "director_data = director_data.set_index('title')\n",
    "director_data = director_data.director.str.split(', ', expand=True).stack()\n",
    "director_data = director_data.reset_index(level=1, drop=True)\n",
    "\n",
    "director_data.head()"
   ]
  },
  {
   "cell_type": "code",
   "execution_count": 15,
   "id": "718e3d08",
   "metadata": {},
   "outputs": [
    {
     "data": {
      "image/png": "[encoded data removed]",
      "text/plain": [
       "<Figure size 432x288 with 1 Axes>"
      ]
     },
     "metadata": {
      "needs_background": "light"
     },
     "output_type": "display_data"
    }
   ],
   "source": [
    "plt.rcParams.update({'text.color': \"black\",\n",
    "                     'axes.labelcolor': \"black\",\n",
    "                    \"ytick.color\" : \"black\",\n",
    "          \"xtick.color\" : \"black\",\n",
    "          \"axes.labelcolor\" : \"black\",\n",
    "          \"axes.edgecolor\" : \"black\"})\n",
    "\n",
    "sns.countplot(y = director_data, order = director_data.value_counts().index[:10], color = '#E50914')\n",
    "plt.xlabel(\"\")\n",
    "plt.suptitle(\"Which director has the most content on Netflix?\", fontsize = 18, va='top', y = 1.02)\n",
    "plt.title(\"Top 10 directors on Netflix based on number of titles\", loc = \"left\", y = 1)\n",
    "plt.show()"
   ]
  },
  {
   "cell_type": "code",
   "execution_count": 16,
   "id": "5d08be1e",
   "metadata": {},
   "outputs": [
    {
     "data": {
      "image/png": "[encoded data removed]",
      "text/plain": [
       "<Figure size 432x288 with 1 Axes>"
      ]
     },
     "metadata": {
      "needs_background": "dark"
     },
     "output_type": "display_data"
    }
   ],
   "source": [
    "plt.rcParams.update({'text.color': \"white\",\n",
    "                     'axes.labelcolor': \"white\",\n",
    "                    \"ytick.color\" : \"white\",\n",
    "          \"xtick.color\" : \"white\",\n",
    "          \"axes.labelcolor\" : \"white\",\n",
    "          \"axes.edgecolor\" : \"white\"})\n",
    "\n",
    "sns.countplot(y = director_data, order = director_data.value_counts().index[:10], color = '#E50914')\n",
    "plt.xlabel(\"\")\n",
    "plt.suptitle(\"Which director has the most content on Netflix?\", fontsize = 18, va='top', y = 1.02)\n",
    "plt.title(\"Top 10 directors on Netflix based on number of titles\", loc = \"left\", y = 1)\n",
    "plt.show()"
   ]
  },
  {
   "cell_type": "code",
   "execution_count": null,
   "id": "b1f30917",
   "metadata": {},
   "outputs": [],
   "source": []
  },
  {
   "cell_type": "code",
   "execution_count": null,
   "id": "08e64218",
   "metadata": {},
   "outputs": [],
   "source": []
  },
  {
   "cell_type": "code",
   "execution_count": 17,
   "id": "1275cdf3",
   "metadata": {},
   "outputs": [],
   "source": [
    "#Proportion of ratings\n",
    "\n",
    "ratings_netflix = netflix.rating.value_counts(normalize = True).reset_index()\n",
    "ratings_netflix['rating'] = ratings_netflix['rating'] * 100\n",
    "ratings_netflix = ratings_netflix[ratings_netflix.rating > 5]\n",
    "ratings_netflix.columns = ['Rating', 'Proportion']"
   ]
  },
  {
   "cell_type": "code",
   "execution_count": 18,
   "id": "58ff3cec",
   "metadata": {},
   "outputs": [
    {
     "data": {
      "text/html": [
       "<div>\n",
       "<style scoped>\n",
       "    .dataframe tbody tr th:only-of-type {\n",
       "        vertical-align: middle;\n",
       "    }\n",
       "\n",
       "    .dataframe tbody tr th {\n",
       "        vertical-align: top;\n",
       "    }\n",
       "\n",
       "    .dataframe thead th {\n",
       "        text-align: right;\n",
       "    }\n",
       "</style>\n",
       "<table border=\"1\" class=\"dataframe\">\n",
       "  <thead>\n",
       "    <tr style=\"text-align: right;\">\n",
       "      <th></th>\n",
       "      <th>Rating</th>\n",
       "      <th>Proportion</th>\n",
       "    </tr>\n",
       "  </thead>\n",
       "  <tbody>\n",
       "    <tr>\n",
       "      <th>0</th>\n",
       "      <td>TV-MA</td>\n",
       "      <td>36.430762</td>\n",
       "    </tr>\n",
       "    <tr>\n",
       "      <th>1</th>\n",
       "      <td>TV-14</td>\n",
       "      <td>24.537090</td>\n",
       "    </tr>\n",
       "    <tr>\n",
       "      <th>2</th>\n",
       "      <td>TV-PG</td>\n",
       "      <td>9.803476</td>\n",
       "    </tr>\n",
       "    <tr>\n",
       "      <th>3</th>\n",
       "      <td>R</td>\n",
       "      <td>9.076451</td>\n",
       "    </tr>\n",
       "    <tr>\n",
       "      <th>4</th>\n",
       "      <td>PG-13</td>\n",
       "      <td>5.566284</td>\n",
       "    </tr>\n",
       "  </tbody>\n",
       "</table>\n",
       "</div>"
      ],
      "text/plain": [
       "  Rating  Proportion\n",
       "0  TV-MA   36.430762\n",
       "1  TV-14   24.537090\n",
       "2  TV-PG    9.803476\n",
       "3      R    9.076451\n",
       "4  PG-13    5.566284"
      ]
     },
     "execution_count": 18,
     "metadata": {},
     "output_type": "execute_result"
    }
   ],
   "source": [
    "ratings_netflix.head()"
   ]
  },
  {
   "cell_type": "code",
   "execution_count": 19,
   "id": "7b6685f8",
   "metadata": {},
   "outputs": [
    {
     "data": {
      "image/png": "[encoded data removed]",
      "text/plain": [
       "<Figure size 432x288 with 1 Axes>"
      ]
     },
     "metadata": {
      "needs_background": "light"
     },
     "output_type": "display_data"
    }
   ],
   "source": [
    "plt.rcParams.update({'text.color': \"black\",\n",
    "                     'axes.labelcolor': \"black\",\n",
    "                    \"ytick.color\" : \"black\",\n",
    "          \"xtick.color\" : \"black\",\n",
    "          \"axes.labelcolor\" : \"black\",\n",
    "          \"axes.edgecolor\" : \"black\"})\n",
    "\n",
    "\n",
    "sns.barplot(y = ratings_netflix.Rating, x = ratings_netflix.Proportion, color = '#E50914')\n",
    "plt.xlabel(\"\")\n",
    "plt.suptitle(\"Ratings for Netflix Content\", fontsize = 18, va='top', y = 1.02)\n",
    "plt.title(\"Proportion of most common ratings\", loc = \"left\", y = 1)\n",
    "plt.show()"
   ]
  },
  {
   "cell_type": "code",
   "execution_count": 20,
   "id": "4d013d0d",
   "metadata": {},
   "outputs": [
    {
     "data": {
      "image/png": "[encoded data removed]",
      "text/plain": [
       "<Figure size 432x288 with 1 Axes>"
      ]
     },
     "metadata": {
      "needs_background": "dark"
     },
     "output_type": "display_data"
    }
   ],
   "source": [
    "plt.rcParams.update({'text.color': \"white\",\n",
    "                     'axes.labelcolor': \"white\",\n",
    "                    \"ytick.color\" : \"white\",\n",
    "          \"xtick.color\" : \"white\",\n",
    "          \"axes.labelcolor\" : \"white\",\n",
    "          \"axes.edgecolor\" : \"white\"})\n",
    "\n",
    "\n",
    "sns.barplot(y = ratings_netflix.Rating, x = ratings_netflix.Proportion, color = '#E50914')\n",
    "plt.xlabel(\"\")\n",
    "plt.suptitle(\"Ratings for Netflix Content\", fontsize = 18, va='top', y = 1.02)\n",
    "plt.title(\"Proportion of most common ratings\", loc = \"left\", y = 1)\n",
    "plt.show()"
   ]
  },
  {
   "cell_type": "code",
   "execution_count": null,
   "id": "214889e2",
   "metadata": {},
   "outputs": [],
   "source": []
  },
  {
   "cell_type": "code",
   "execution_count": null,
   "id": "72587ae2",
   "metadata": {},
   "outputs": [],
   "source": []
  },
  {
   "cell_type": "code",
   "execution_count": 21,
   "id": "0b703505",
   "metadata": {},
   "outputs": [
    {
     "data": {
      "text/plain": [
       "(9668, 12)"
      ]
     },
     "execution_count": 21,
     "metadata": {},
     "output_type": "execute_result"
    }
   ],
   "source": [
    "amazon = pd.read_csv('amazon_prime_titles.csv')\n",
    "amazon.shape"
   ]
  },
  {
   "cell_type": "code",
   "execution_count": 22,
   "id": "43015ee7",
   "metadata": {},
   "outputs": [],
   "source": [
    "ratings_amazon = amazon.rating.value_counts(normalize = True).reset_index()\n",
    "ratings_amazon['rating'] = ratings_amazon['rating'] * 100\n",
    "ratings_amazon = ratings_amazon[ratings_amazon.rating > 5]\n",
    "ratings_amazon.columns = ['Rating', 'Proportion']"
   ]
  },
  {
   "cell_type": "code",
   "execution_count": 23,
   "id": "8f4a2676",
   "metadata": {},
   "outputs": [
    {
     "data": {
      "image/png": "[encoded data removed]",
      "text/plain": [
       "<Figure size 432x288 with 1 Axes>"
      ]
     },
     "metadata": {
      "needs_background": "light"
     },
     "output_type": "display_data"
    }
   ],
   "source": [
    "plt.rcParams.update({'text.color': \"black\",\n",
    "                     'axes.labelcolor': \"black\",\n",
    "                    \"ytick.color\" : \"black\",\n",
    "          \"xtick.color\" : \"black\",\n",
    "          \"axes.labelcolor\" : \"black\",\n",
    "          \"axes.edgecolor\" : \"black\"})\n",
    "\n",
    "\n",
    "\n",
    "sns.barplot(y = ratings_amazon.Rating, x = ratings_amazon.Proportion, color = '#E50914')\n",
    "plt.xlabel(\"\")\n",
    "plt.suptitle(\"Ratings for Amazon Content\", fontsize = 18, va='top', y = 1.02)\n",
    "plt.title(\"Proportion of most common ratings\", loc = \"left\", y = 1)\n",
    "plt.show()"
   ]
  },
  {
   "cell_type": "code",
   "execution_count": 24,
   "id": "8c7d7233",
   "metadata": {},
   "outputs": [
    {
     "data": {
      "image/png": "[encoded data removed]",
      "text/plain": [
       "<Figure size 432x288 with 1 Axes>"
      ]
     },
     "metadata": {
      "needs_background": "dark"
     },
     "output_type": "display_data"
    }
   ],
   "source": [
    "plt.rcParams.update({'text.color': \"white\",\n",
    "                     'axes.labelcolor': \"white\",\n",
    "                    \"ytick.color\" : \"white\",\n",
    "          \"xtick.color\" : \"white\",\n",
    "          \"axes.labelcolor\" : \"white\",\n",
    "          \"axes.edgecolor\" : \"white\"})\n",
    "\n",
    "\n",
    "\n",
    "sns.barplot(y = ratings_amazon.Rating, x = ratings_amazon.Proportion, color = '#E50914')\n",
    "plt.xlabel(\"\")\n",
    "plt.suptitle(\"Ratings for Amazon Content\", fontsize = 18, va='top', y = 1.02)\n",
    "plt.title(\"Proportion of most common ratings\", loc = \"left\", y = 1)\n",
    "plt.show()"
   ]
  },
  {
   "cell_type": "code",
   "execution_count": null,
   "id": "33fef3a0",
   "metadata": {},
   "outputs": [],
   "source": []
  },
  {
   "cell_type": "code",
   "execution_count": 25,
   "id": "7364ee57",
   "metadata": {},
   "outputs": [],
   "source": [
    "#Recommendation System"
   ]
  },
  {
   "cell_type": "code",
   "execution_count": 26,
   "id": "fa176867",
   "metadata": {},
   "outputs": [],
   "source": [
    "from sklearn.feature_extraction.text import TfidfVectorizer\n",
    "#https://scikit-learn.org/stable/modules/feature_extraction.html#text-feature-extraction"
   ]
  },
  {
   "cell_type": "code",
   "execution_count": 27,
   "id": "7d32faea",
   "metadata": {},
   "outputs": [],
   "source": [
    "netflix_reco = netflix.copy()"
   ]
  },
  {
   "cell_type": "code",
   "execution_count": 28,
   "id": "acbb8d69",
   "metadata": {},
   "outputs": [
    {
     "name": "stdout",
     "output_type": "stream",
     "text": [
      "(8807, 18895)\n"
     ]
    }
   ],
   "source": [
    "#Removing stopwords (words that carry no significant meanings)\n",
    "vectorizer = TfidfVectorizer(stop_words='english')\n",
    "\n",
    "#Replacing NAs with null\n",
    "netflix_reco['description'] = netflix_reco['description'].fillna('')\n",
    "\n",
    "#Fitting and transforming the data to create matrix\n",
    "vectorizer_matrix = vectorizer.fit_transform(netflix_reco['description'])\n",
    "\n",
    "print(vectorizer_matrix.shape)"
   ]
  },
  {
   "cell_type": "code",
   "execution_count": 29,
   "id": "de137075",
   "metadata": {},
   "outputs": [],
   "source": [
    "# Import linear_kernel\n",
    "from sklearn.metrics.pairwise import linear_kernel\n",
    "\n",
    "# Compute the cosine similarity matrix\n",
    "cosine_sim = linear_kernel(vectorizer_matrix, vectorizer_matrix)"
   ]
  },
  {
   "cell_type": "code",
   "execution_count": 30,
   "id": "ca78eb5c",
   "metadata": {},
   "outputs": [],
   "source": [
    "indices = pd.Series(netflix_reco.index, index=netflix_reco['title']).drop_duplicates()"
   ]
  },
  {
   "cell_type": "code",
   "execution_count": 32,
   "id": "8ad1da44",
   "metadata": {},
   "outputs": [],
   "source": [
    "def get_recommendations(title, cosine_sim=cosine_sim):\n",
    "    idx = indices[title]\n",
    "\n",
    "    #Pairwsie similarity of all movies with the considered movie\n",
    "    sim_scores = list(enumerate(cosine_sim[idx]))\n",
    "\n",
    "    #Sorting all movies based on the similarity score\n",
    "    sim_scores = sorted(sim_scores, key=lambda x: x[1], reverse=True)\n",
    "\n",
    "    # Get the scores of the 10 most similar movies\n",
    "    sim_scores = sim_scores[1:11]\n",
    "\n",
    "    # Get the movie indices\n",
    "    movie_indices = [i[0] for i in sim_scores]\n",
    "    \n",
    "    reco_scores = [i[1] for i in sim_scores]\n",
    "\n",
    "    # Return the top 10 most similar movies\n",
    "    return netflix_reco['title'].iloc[movie_indices], reco_scores"
   ]
  },
  {
   "cell_type": "code",
   "execution_count": 33,
   "id": "23e199a3",
   "metadata": {},
   "outputs": [
    {
     "data": {
      "image/png": "[encoded data removed]",
      "text/plain": [
       "<Figure size 432x288 with 1 Axes>"
      ]
     },
     "metadata": {
      "needs_background": "light"
     },
     "output_type": "display_data"
    }
   ],
   "source": [
    "movies, scores = get_recommendations(\"Peaky Blinders\")\n",
    "recos = pd.DataFrame(list(movies), scores).reset_index()\n",
    "recos.columns = ['Score', 'Title']\n",
    "\n",
    "\n",
    "plt.rcParams.update({'text.color': \"black\",\n",
    "                     'axes.labelcolor': \"black\",\n",
    "                    \"ytick.color\" : \"black\",\n",
    "          \"xtick.color\" : \"black\",\n",
    "          \"axes.labelcolor\" : \"black\",\n",
    "          \"axes.edgecolor\" : \"black\"})\n",
    "sns.barplot(x = recos.Score[0:5], y = recos.Title[0:5], color = '#E50914')\n",
    "plt.xlabel(\"Similarity Score\")\n",
    "plt.ylabel(\"\")\n",
    "plt.title('Recommendations for Peaky Blinders', loc = \"left\", y = 1)\n",
    "plt.show()"
   ]
  },
  {
   "cell_type": "code",
   "execution_count": 34,
   "id": "281e994e",
   "metadata": {},
   "outputs": [
    {
     "data": {
      "image/png": "[encoded data removed]",
      "text/plain": [
       "<Figure size 432x288 with 1 Axes>"
      ]
     },
     "metadata": {
      "needs_background": "light"
     },
     "output_type": "display_data"
    }
   ],
   "source": [
    "movies, scores = get_recommendations('Kung Fu Panda: Holiday')\n",
    "recos = pd.DataFrame(list(movies), scores).reset_index()\n",
    "recos.columns = ['Score', 'Title']\n",
    "\n",
    "\n",
    "plt.rcParams.update({'text.color': \"black\",\n",
    "                     'axes.labelcolor': \"black\",\n",
    "                    \"ytick.color\" : \"black\",\n",
    "          \"xtick.color\" : \"black\",\n",
    "          \"axes.labelcolor\" : \"black\",\n",
    "          \"axes.edgecolor\" : \"black\"})\n",
    "sns.barplot(x = recos.Score[0:5], y = recos.Title[0:5], color = '#E50914')\n",
    "plt.xlabel(\"Similarity Score\")\n",
    "plt.ylabel(\"\")\n",
    "plt.title('Recommendations for Kung Fu Panda: Holiday', loc = \"left\", y = 1)\n",
    "plt.show()"
   ]
  },
  {
   "cell_type": "code",
   "execution_count": 37,
   "id": "7e04c0a1",
   "metadata": {},
   "outputs": [],
   "source": [
    "pd.set_option('display.max_columns', 500)"
   ]
  },
  {
   "cell_type": "code",
   "execution_count": 22,
   "id": "954c4df2",
   "metadata": {},
   "outputs": [
    {
     "data": {
      "text/plain": [
       "(3026, 79)"
      ]
     },
     "execution_count": 22,
     "metadata": {},
     "output_type": "execute_result"
    }
   ],
   "source": [
    "netflix_rating = pd.read_csv('netflix_rating.csv')\n",
    "netflix_rating.shape"
   ]
  },
  {
   "cell_type": "code",
   "execution_count": 23,
   "id": "a61fe5ee",
   "metadata": {},
   "outputs": [
    {
     "data": {
      "text/html": [
       "<div>\n",
       "<style scoped>\n",
       "    .dataframe tbody tr th:only-of-type {\n",
       "        vertical-align: middle;\n",
       "    }\n",
       "\n",
       "    .dataframe tbody tr th {\n",
       "        vertical-align: top;\n",
       "    }\n",
       "\n",
       "    .dataframe thead th {\n",
       "        text-align: right;\n",
       "    }\n",
       "</style>\n",
       "<table border=\"1\" class=\"dataframe\">\n",
       "  <thead>\n",
       "    <tr style=\"text-align: right;\">\n",
       "      <th></th>\n",
       "      <th>type</th>\n",
       "      <th>title</th>\n",
       "      <th>director</th>\n",
       "      <th>cast</th>\n",
       "      <th>country.x</th>\n",
       "      <th>date_added</th>\n",
       "      <th>release_year</th>\n",
       "      <th>rating</th>\n",
       "      <th>duration.x</th>\n",
       "      <th>listed_in</th>\n",
       "      <th>...</th>\n",
       "      <th>females_30age_votes</th>\n",
       "      <th>females_45age_avg_vote</th>\n",
       "      <th>females_45age_votes</th>\n",
       "      <th>top1000_voters_rating</th>\n",
       "      <th>top1000_voters_votes</th>\n",
       "      <th>us_voters_rating</th>\n",
       "      <th>us_voters_votes</th>\n",
       "      <th>non_us_voters_rating</th>\n",
       "      <th>non_us_voters_votes</th>\n",
       "      <th>platform</th>\n",
       "    </tr>\n",
       "  </thead>\n",
       "  <tbody>\n",
       "    <tr>\n",
       "      <th>0</th>\n",
       "      <td>Movie</td>\n",
       "      <td>Sankofa</td>\n",
       "      <td>Haile Gerima</td>\n",
       "      <td>Kofi Ghanaba, Oyafunmike Ogunlano, Alexandra D...</td>\n",
       "      <td>United States, Ghana, Burkina Faso, United Kin...</td>\n",
       "      <td>24-Sep-21</td>\n",
       "      <td>1993</td>\n",
       "      <td>TV-MA</td>\n",
       "      <td>125 min</td>\n",
       "      <td>Dramas, Independent Movies, International Movies</td>\n",
       "      <td>...</td>\n",
       "      <td>52.0</td>\n",
       "      <td>8.3</td>\n",
       "      <td>42.0</td>\n",
       "      <td>3.8</td>\n",
       "      <td>20.0</td>\n",
       "      <td>7.3</td>\n",
       "      <td>259.0</td>\n",
       "      <td>5.8</td>\n",
       "      <td>105</td>\n",
       "      <td>netflix</td>\n",
       "    </tr>\n",
       "    <tr>\n",
       "      <th>1</th>\n",
       "      <td>Movie</td>\n",
       "      <td>Jeans</td>\n",
       "      <td>S. Shankar</td>\n",
       "      <td>Prashanth, Aishwarya Rai Bachchan, Sri Lakshmi...</td>\n",
       "      <td>India</td>\n",
       "      <td>21-Sep-21</td>\n",
       "      <td>1998</td>\n",
       "      <td>TV-14</td>\n",
       "      <td>166 min</td>\n",
       "      <td>Comedies, International Movies, Romantic Movies</td>\n",
       "      <td>...</td>\n",
       "      <td>224.0</td>\n",
       "      <td>5.5</td>\n",
       "      <td>96.0</td>\n",
       "      <td>5.5</td>\n",
       "      <td>23.0</td>\n",
       "      <td>5.6</td>\n",
       "      <td>383.0</td>\n",
       "      <td>6.3</td>\n",
       "      <td>1584</td>\n",
       "      <td>netflix</td>\n",
       "    </tr>\n",
       "    <tr>\n",
       "      <th>2</th>\n",
       "      <td>Movie</td>\n",
       "      <td>Training Day</td>\n",
       "      <td>Antoine Fuqua</td>\n",
       "      <td>Denzel Washington, Ethan Hawke, Scott Glenn, T...</td>\n",
       "      <td>United States</td>\n",
       "      <td>16-Sep-21</td>\n",
       "      <td>2001</td>\n",
       "      <td>R</td>\n",
       "      <td>122 min</td>\n",
       "      <td>Dramas, Thrillers</td>\n",
       "      <td>...</td>\n",
       "      <td>15820.0</td>\n",
       "      <td>7.4</td>\n",
       "      <td>4431.0</td>\n",
       "      <td>7.4</td>\n",
       "      <td>744.0</td>\n",
       "      <td>7.8</td>\n",
       "      <td>67119.0</td>\n",
       "      <td>7.7</td>\n",
       "      <td>180795</td>\n",
       "      <td>netflix</td>\n",
       "    </tr>\n",
       "    <tr>\n",
       "      <th>3</th>\n",
       "      <td>Movie</td>\n",
       "      <td>King of Boys</td>\n",
       "      <td>Kemi Adetiba</td>\n",
       "      <td>Sola Sobowale, Adesua Etomi, Remilekun \"Remini...</td>\n",
       "      <td>Nigeria</td>\n",
       "      <td>14-Sep-21</td>\n",
       "      <td>2018</td>\n",
       "      <td>TV-MA</td>\n",
       "      <td>182 min</td>\n",
       "      <td>Dramas, International Movies</td>\n",
       "      <td>...</td>\n",
       "      <td>10.0</td>\n",
       "      <td>8.7</td>\n",
       "      <td>3.0</td>\n",
       "      <td>3.8</td>\n",
       "      <td>12.0</td>\n",
       "      <td>6.3</td>\n",
       "      <td>23.0</td>\n",
       "      <td>4.6</td>\n",
       "      <td>55</td>\n",
       "      <td>netflix</td>\n",
       "    </tr>\n",
       "    <tr>\n",
       "      <th>4</th>\n",
       "      <td>Movie</td>\n",
       "      <td>Paradise Hills</td>\n",
       "      <td>Alice Waddington</td>\n",
       "      <td>Emma Roberts, Danielle Macdonald, Awkwafina, E...</td>\n",
       "      <td>Spain, United States</td>\n",
       "      <td>9-Sep-21</td>\n",
       "      <td>2019</td>\n",
       "      <td>TV-MA</td>\n",
       "      <td>95 min</td>\n",
       "      <td>Sci-Fi &amp; Fantasy, Thrillers</td>\n",
       "      <td>...</td>\n",
       "      <td>895.0</td>\n",
       "      <td>5.5</td>\n",
       "      <td>190.0</td>\n",
       "      <td>5.0</td>\n",
       "      <td>130.0</td>\n",
       "      <td>5.5</td>\n",
       "      <td>1008.0</td>\n",
       "      <td>5.4</td>\n",
       "      <td>4141</td>\n",
       "      <td>netflix</td>\n",
       "    </tr>\n",
       "  </tbody>\n",
       "</table>\n",
       "<p>5 rows × 79 columns</p>\n",
       "</div>"
      ],
      "text/plain": [
       "    type           title          director  \\\n",
       "0  Movie         Sankofa      Haile Gerima   \n",
       "1  Movie           Jeans        S. Shankar   \n",
       "2  Movie    Training Day     Antoine Fuqua   \n",
       "3  Movie    King of Boys      Kemi Adetiba   \n",
       "4  Movie  Paradise Hills  Alice Waddington   \n",
       "\n",
       "                                                cast  \\\n",
       "0  Kofi Ghanaba, Oyafunmike Ogunlano, Alexandra D...   \n",
       "1  Prashanth, Aishwarya Rai Bachchan, Sri Lakshmi...   \n",
       "2  Denzel Washington, Ethan Hawke, Scott Glenn, T...   \n",
       "3  Sola Sobowale, Adesua Etomi, Remilekun \"Remini...   \n",
       "4  Emma Roberts, Danielle Macdonald, Awkwafina, E...   \n",
       "\n",
       "                                           country.x date_added  release_year  \\\n",
       "0  United States, Ghana, Burkina Faso, United Kin...  24-Sep-21          1993   \n",
       "1                                              India  21-Sep-21          1998   \n",
       "2                                      United States  16-Sep-21          2001   \n",
       "3                                            Nigeria  14-Sep-21          2018   \n",
       "4                               Spain, United States   9-Sep-21          2019   \n",
       "\n",
       "  rating duration.x                                         listed_in  ...  \\\n",
       "0  TV-MA    125 min  Dramas, Independent Movies, International Movies  ...   \n",
       "1  TV-14    166 min   Comedies, International Movies, Romantic Movies  ...   \n",
       "2      R    122 min                                 Dramas, Thrillers  ...   \n",
       "3  TV-MA    182 min                      Dramas, International Movies  ...   \n",
       "4  TV-MA     95 min                       Sci-Fi & Fantasy, Thrillers  ...   \n",
       "\n",
       "  females_30age_votes  females_45age_avg_vote females_45age_votes  \\\n",
       "0                52.0                     8.3                42.0   \n",
       "1               224.0                     5.5                96.0   \n",
       "2             15820.0                     7.4              4431.0   \n",
       "3                10.0                     8.7                 3.0   \n",
       "4               895.0                     5.5               190.0   \n",
       "\n",
       "  top1000_voters_rating top1000_voters_votes  us_voters_rating  \\\n",
       "0                   3.8                 20.0               7.3   \n",
       "1                   5.5                 23.0               5.6   \n",
       "2                   7.4                744.0               7.8   \n",
       "3                   3.8                 12.0               6.3   \n",
       "4                   5.0                130.0               5.5   \n",
       "\n",
       "  us_voters_votes non_us_voters_rating non_us_voters_votes platform  \n",
       "0           259.0                  5.8                 105  netflix  \n",
       "1           383.0                  6.3                1584  netflix  \n",
       "2         67119.0                  7.7              180795  netflix  \n",
       "3            23.0                  4.6                  55  netflix  \n",
       "4          1008.0                  5.4                4141  netflix  \n",
       "\n",
       "[5 rows x 79 columns]"
      ]
     },
     "execution_count": 23,
     "metadata": {},
     "output_type": "execute_result"
    }
   ],
   "source": [
    "netflix_rating.head()"
   ]
  },
  {
   "cell_type": "code",
   "execution_count": 24,
   "id": "82545407",
   "metadata": {},
   "outputs": [
    {
     "data": {
      "text/plain": [
       "count    3026.000000\n",
       "mean        5.904197\n",
       "std         1.229663\n",
       "min         1.500000\n",
       "25%         5.200000\n",
       "50%         6.000000\n",
       "75%         6.800000\n",
       "max         9.100000\n",
       "Name: avg_vote, dtype: float64"
      ]
     },
     "execution_count": 24,
     "metadata": {},
     "output_type": "execute_result"
    }
   ],
   "source": [
    "netflix_rating.avg_vote.describe()"
   ]
  },
  {
   "cell_type": "code",
   "execution_count": 25,
   "id": "b65d5f38",
   "metadata": {},
   "outputs": [
    {
     "data": {
      "text/plain": [
       "(array([ 15.,  48., 105., 262., 376., 738., 788., 468., 197.,  29.]),\n",
       " array([1.5 , 2.26, 3.02, 3.78, 4.54, 5.3 , 6.06, 6.82, 7.58, 8.34, 9.1 ]),\n",
       " <BarContainer object of 10 artists>)"
      ]
     },
     "execution_count": 25,
     "metadata": {},
     "output_type": "execute_result"
    },
    {
     "data": {
      "image/png": "[encoded data removed]",
      "text/plain": [
       "<Figure size 432x288 with 1 Axes>"
      ]
     },
     "metadata": {
      "needs_background": "light"
     },
     "output_type": "display_data"
    }
   ],
   "source": [
    "plt.hist(netflix_rating.avg_vote)"
   ]
  },
  {
   "cell_type": "code",
   "execution_count": 26,
   "id": "0acb809c",
   "metadata": {},
   "outputs": [
    {
     "data": {
      "text/html": [
       "<div>\n",
       "<style scoped>\n",
       "    .dataframe tbody tr th:only-of-type {\n",
       "        vertical-align: middle;\n",
       "    }\n",
       "\n",
       "    .dataframe tbody tr th {\n",
       "        vertical-align: top;\n",
       "    }\n",
       "\n",
       "    .dataframe thead th {\n",
       "        text-align: right;\n",
       "    }\n",
       "</style>\n",
       "<table border=\"1\" class=\"dataframe\">\n",
       "  <thead>\n",
       "    <tr style=\"text-align: right;\">\n",
       "      <th></th>\n",
       "      <th>type</th>\n",
       "      <th>title</th>\n",
       "      <th>director</th>\n",
       "      <th>cast</th>\n",
       "      <th>country.x</th>\n",
       "      <th>date_added</th>\n",
       "      <th>release_year</th>\n",
       "      <th>rating</th>\n",
       "      <th>duration.x</th>\n",
       "      <th>listed_in</th>\n",
       "      <th>...</th>\n",
       "      <th>females_30age_votes</th>\n",
       "      <th>females_45age_avg_vote</th>\n",
       "      <th>females_45age_votes</th>\n",
       "      <th>top1000_voters_rating</th>\n",
       "      <th>top1000_voters_votes</th>\n",
       "      <th>us_voters_rating</th>\n",
       "      <th>us_voters_votes</th>\n",
       "      <th>non_us_voters_rating</th>\n",
       "      <th>non_us_voters_votes</th>\n",
       "      <th>platform</th>\n",
       "    </tr>\n",
       "  </thead>\n",
       "  <tbody>\n",
       "    <tr>\n",
       "      <th>0</th>\n",
       "      <td>Movie</td>\n",
       "      <td>Sankofa</td>\n",
       "      <td>Haile Gerima</td>\n",
       "      <td>Kofi Ghanaba, Oyafunmike Ogunlano, Alexandra D...</td>\n",
       "      <td>United States, Ghana, Burkina Faso, United Kin...</td>\n",
       "      <td>24-Sep-21</td>\n",
       "      <td>1993</td>\n",
       "      <td>TV-MA</td>\n",
       "      <td>125 min</td>\n",
       "      <td>Dramas, Independent Movies, International Movies</td>\n",
       "      <td>...</td>\n",
       "      <td>52.0</td>\n",
       "      <td>8.3</td>\n",
       "      <td>42.0</td>\n",
       "      <td>3.8</td>\n",
       "      <td>20.0</td>\n",
       "      <td>7.3</td>\n",
       "      <td>259.0</td>\n",
       "      <td>5.8</td>\n",
       "      <td>105</td>\n",
       "      <td>netflix</td>\n",
       "    </tr>\n",
       "    <tr>\n",
       "      <th>1</th>\n",
       "      <td>Movie</td>\n",
       "      <td>Jeans</td>\n",
       "      <td>S. Shankar</td>\n",
       "      <td>Prashanth, Aishwarya Rai Bachchan, Sri Lakshmi...</td>\n",
       "      <td>India</td>\n",
       "      <td>21-Sep-21</td>\n",
       "      <td>1998</td>\n",
       "      <td>TV-14</td>\n",
       "      <td>166 min</td>\n",
       "      <td>Comedies, International Movies, Romantic Movies</td>\n",
       "      <td>...</td>\n",
       "      <td>224.0</td>\n",
       "      <td>5.5</td>\n",
       "      <td>96.0</td>\n",
       "      <td>5.5</td>\n",
       "      <td>23.0</td>\n",
       "      <td>5.6</td>\n",
       "      <td>383.0</td>\n",
       "      <td>6.3</td>\n",
       "      <td>1584</td>\n",
       "      <td>netflix</td>\n",
       "    </tr>\n",
       "    <tr>\n",
       "      <th>2</th>\n",
       "      <td>Movie</td>\n",
       "      <td>Training Day</td>\n",
       "      <td>Antoine Fuqua</td>\n",
       "      <td>Denzel Washington, Ethan Hawke, Scott Glenn, T...</td>\n",
       "      <td>United States</td>\n",
       "      <td>16-Sep-21</td>\n",
       "      <td>2001</td>\n",
       "      <td>R</td>\n",
       "      <td>122 min</td>\n",
       "      <td>Dramas, Thrillers</td>\n",
       "      <td>...</td>\n",
       "      <td>15820.0</td>\n",
       "      <td>7.4</td>\n",
       "      <td>4431.0</td>\n",
       "      <td>7.4</td>\n",
       "      <td>744.0</td>\n",
       "      <td>7.8</td>\n",
       "      <td>67119.0</td>\n",
       "      <td>7.7</td>\n",
       "      <td>180795</td>\n",
       "      <td>netflix</td>\n",
       "    </tr>\n",
       "    <tr>\n",
       "      <th>3</th>\n",
       "      <td>Movie</td>\n",
       "      <td>King of Boys</td>\n",
       "      <td>Kemi Adetiba</td>\n",
       "      <td>Sola Sobowale, Adesua Etomi, Remilekun \"Remini...</td>\n",
       "      <td>Nigeria</td>\n",
       "      <td>14-Sep-21</td>\n",
       "      <td>2018</td>\n",
       "      <td>TV-MA</td>\n",
       "      <td>182 min</td>\n",
       "      <td>Dramas, International Movies</td>\n",
       "      <td>...</td>\n",
       "      <td>10.0</td>\n",
       "      <td>8.7</td>\n",
       "      <td>3.0</td>\n",
       "      <td>3.8</td>\n",
       "      <td>12.0</td>\n",
       "      <td>6.3</td>\n",
       "      <td>23.0</td>\n",
       "      <td>4.6</td>\n",
       "      <td>55</td>\n",
       "      <td>netflix</td>\n",
       "    </tr>\n",
       "    <tr>\n",
       "      <th>4</th>\n",
       "      <td>Movie</td>\n",
       "      <td>Paradise Hills</td>\n",
       "      <td>Alice Waddington</td>\n",
       "      <td>Emma Roberts, Danielle Macdonald, Awkwafina, E...</td>\n",
       "      <td>Spain, United States</td>\n",
       "      <td>9-Sep-21</td>\n",
       "      <td>2019</td>\n",
       "      <td>TV-MA</td>\n",
       "      <td>95 min</td>\n",
       "      <td>Sci-Fi &amp; Fantasy, Thrillers</td>\n",
       "      <td>...</td>\n",
       "      <td>895.0</td>\n",
       "      <td>5.5</td>\n",
       "      <td>190.0</td>\n",
       "      <td>5.0</td>\n",
       "      <td>130.0</td>\n",
       "      <td>5.5</td>\n",
       "      <td>1008.0</td>\n",
       "      <td>5.4</td>\n",
       "      <td>4141</td>\n",
       "      <td>netflix</td>\n",
       "    </tr>\n",
       "  </tbody>\n",
       "</table>\n",
       "<p>5 rows × 79 columns</p>\n",
       "</div>"
      ],
      "text/plain": [
       "    type           title          director  \\\n",
       "0  Movie         Sankofa      Haile Gerima   \n",
       "1  Movie           Jeans        S. Shankar   \n",
       "2  Movie    Training Day     Antoine Fuqua   \n",
       "3  Movie    King of Boys      Kemi Adetiba   \n",
       "4  Movie  Paradise Hills  Alice Waddington   \n",
       "\n",
       "                                                cast  \\\n",
       "0  Kofi Ghanaba, Oyafunmike Ogunlano, Alexandra D...   \n",
       "1  Prashanth, Aishwarya Rai Bachchan, Sri Lakshmi...   \n",
       "2  Denzel Washington, Ethan Hawke, Scott Glenn, T...   \n",
       "3  Sola Sobowale, Adesua Etomi, Remilekun \"Remini...   \n",
       "4  Emma Roberts, Danielle Macdonald, Awkwafina, E...   \n",
       "\n",
       "                                           country.x date_added  release_year  \\\n",
       "0  United States, Ghana, Burkina Faso, United Kin...  24-Sep-21          1993   \n",
       "1                                              India  21-Sep-21          1998   \n",
       "2                                      United States  16-Sep-21          2001   \n",
       "3                                            Nigeria  14-Sep-21          2018   \n",
       "4                               Spain, United States   9-Sep-21          2019   \n",
       "\n",
       "  rating duration.x                                         listed_in  ...  \\\n",
       "0  TV-MA    125 min  Dramas, Independent Movies, International Movies  ...   \n",
       "1  TV-14    166 min   Comedies, International Movies, Romantic Movies  ...   \n",
       "2      R    122 min                                 Dramas, Thrillers  ...   \n",
       "3  TV-MA    182 min                      Dramas, International Movies  ...   \n",
       "4  TV-MA     95 min                       Sci-Fi & Fantasy, Thrillers  ...   \n",
       "\n",
       "  females_30age_votes  females_45age_avg_vote females_45age_votes  \\\n",
       "0                52.0                     8.3                42.0   \n",
       "1               224.0                     5.5                96.0   \n",
       "2             15820.0                     7.4              4431.0   \n",
       "3                10.0                     8.7                 3.0   \n",
       "4               895.0                     5.5               190.0   \n",
       "\n",
       "  top1000_voters_rating top1000_voters_votes  us_voters_rating  \\\n",
       "0                   3.8                 20.0               7.3   \n",
       "1                   5.5                 23.0               5.6   \n",
       "2                   7.4                744.0               7.8   \n",
       "3                   3.8                 12.0               6.3   \n",
       "4                   5.0                130.0               5.5   \n",
       "\n",
       "  us_voters_votes non_us_voters_rating non_us_voters_votes platform  \n",
       "0           259.0                  5.8                 105  netflix  \n",
       "1           383.0                  6.3                1584  netflix  \n",
       "2         67119.0                  7.7              180795  netflix  \n",
       "3            23.0                  4.6                  55  netflix  \n",
       "4          1008.0                  5.4                4141  netflix  \n",
       "\n",
       "[5 rows x 79 columns]"
      ]
     },
     "execution_count": 26,
     "metadata": {},
     "output_type": "execute_result"
    }
   ],
   "source": [
    "netflix_rating.head()"
   ]
  },
  {
   "cell_type": "code",
   "execution_count": 39,
   "id": "cba45c19",
   "metadata": {},
   "outputs": [],
   "source": [
    "netflix_model = netflix_rating.copy()"
   ]
  }
 ],
 "metadata": {
  "kernelspec": {
   "display_name": "Python 3 (ipykernel)",
   "language": "python",
   "name": "python3"
  },
  "language_info": {
   "codemirror_mode": {
    "name": "ipython",
    "version": 3
   },
   "file_extension": ".py",
   "mimetype": "text/x-python",
   "name": "python",
   "nbconvert_exporter": "python",
   "pygments_lexer": "ipython3",
   "version": "3.8.12"
  }
 },
 "nbformat": 4,
 "nbformat_minor": 5
}
